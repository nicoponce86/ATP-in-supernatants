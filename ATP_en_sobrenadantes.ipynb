{
 "cells": [
  {
   "cell_type": "code",
   "execution_count": 2,
   "metadata": {},
   "outputs": [],
   "source": [
    "#Graficar la concentracion de ATP en los sobrenadantes de cultivo de Li B"
   ]
  },
  {
   "cell_type": "code",
   "execution_count": 3,
   "metadata": {},
   "outputs": [],
   "source": [
    "import seaborn as sns\n",
    "import pandas"
   ]
  },
  {
   "cell_type": "code",
   "execution_count": 5,
   "metadata": {},
   "outputs": [
    {
     "data": {
      "text/html": [
       "<div>\n",
       "<style scoped>\n",
       "    .dataframe tbody tr th:only-of-type {\n",
       "        vertical-align: middle;\n",
       "    }\n",
       "\n",
       "    .dataframe tbody tr th {\n",
       "        vertical-align: top;\n",
       "    }\n",
       "\n",
       "    .dataframe thead th {\n",
       "        text-align: right;\n",
       "    }\n",
       "</style>\n",
       "<table border=\"1\" class=\"dataframe\">\n",
       "  <thead>\n",
       "    <tr style=\"text-align: right;\">\n",
       "      <th></th>\n",
       "      <th>Paciente</th>\n",
       "      <th>ATP _in_sn</th>\n",
       "      <th>tiempo</th>\n",
       "      <th>Respondieron al tratamiento?</th>\n",
       "    </tr>\n",
       "  </thead>\n",
       "  <tbody>\n",
       "    <tr>\n",
       "      <td>0</td>\n",
       "      <td>ME</td>\n",
       "      <td>0.6620</td>\n",
       "      <td>sin tratamiento</td>\n",
       "      <td>sin tratamiento</td>\n",
       "    </tr>\n",
       "    <tr>\n",
       "      <td>1</td>\n",
       "      <td>ME</td>\n",
       "      <td>0.5850</td>\n",
       "      <td>3m de tratamiento</td>\n",
       "      <td>SI</td>\n",
       "    </tr>\n",
       "    <tr>\n",
       "      <td>2</td>\n",
       "      <td>SL</td>\n",
       "      <td>0.1950</td>\n",
       "      <td>sin tratamiento</td>\n",
       "      <td>sin tratamiento</td>\n",
       "    </tr>\n",
       "    <tr>\n",
       "      <td>3</td>\n",
       "      <td>SL</td>\n",
       "      <td>0.1720</td>\n",
       "      <td>3m de tratamiento</td>\n",
       "      <td>SI</td>\n",
       "    </tr>\n",
       "    <tr>\n",
       "      <td>4</td>\n",
       "      <td>DN</td>\n",
       "      <td>0.2270</td>\n",
       "      <td>sin tratamiento</td>\n",
       "      <td>sin tratamiento</td>\n",
       "    </tr>\n",
       "    <tr>\n",
       "      <td>5</td>\n",
       "      <td>DN</td>\n",
       "      <td>0.1850</td>\n",
       "      <td>3m de tratamiento</td>\n",
       "      <td>SI</td>\n",
       "    </tr>\n",
       "    <tr>\n",
       "      <td>6</td>\n",
       "      <td>URI</td>\n",
       "      <td>0.7716</td>\n",
       "      <td>sin tratamiento</td>\n",
       "      <td>sin tratamiento</td>\n",
       "    </tr>\n",
       "    <tr>\n",
       "      <td>7</td>\n",
       "      <td>URI</td>\n",
       "      <td>0.2644</td>\n",
       "      <td>3m de tratamiento</td>\n",
       "      <td>SI</td>\n",
       "    </tr>\n",
       "    <tr>\n",
       "      <td>8</td>\n",
       "      <td>AMC</td>\n",
       "      <td>0.6560</td>\n",
       "      <td>sin tratamiento</td>\n",
       "      <td>sin tratamiento</td>\n",
       "    </tr>\n",
       "    <tr>\n",
       "      <td>9</td>\n",
       "      <td>AMC</td>\n",
       "      <td>0.6600</td>\n",
       "      <td>3m de tratamiento</td>\n",
       "      <td>NO</td>\n",
       "    </tr>\n",
       "    <tr>\n",
       "      <td>10</td>\n",
       "      <td>TML</td>\n",
       "      <td>0.6220</td>\n",
       "      <td>sin tratamiento</td>\n",
       "      <td>sin tratamiento</td>\n",
       "    </tr>\n",
       "    <tr>\n",
       "      <td>11</td>\n",
       "      <td>TML</td>\n",
       "      <td>0.7850</td>\n",
       "      <td>3m de tratamiento</td>\n",
       "      <td>NO</td>\n",
       "    </tr>\n",
       "  </tbody>\n",
       "</table>\n",
       "</div>"
      ],
      "text/plain": [
       "   Paciente  ATP _in_sn             tiempo Respondieron al tratamiento?\n",
       "0        ME      0.6620    sin tratamiento              sin tratamiento\n",
       "1        ME      0.5850  3m de tratamiento                           SI\n",
       "2        SL      0.1950    sin tratamiento              sin tratamiento\n",
       "3        SL      0.1720  3m de tratamiento                           SI\n",
       "4        DN      0.2270    sin tratamiento              sin tratamiento\n",
       "5        DN      0.1850  3m de tratamiento                           SI\n",
       "6       URI      0.7716    sin tratamiento              sin tratamiento\n",
       "7       URI      0.2644  3m de tratamiento                           SI\n",
       "8       AMC      0.6560    sin tratamiento              sin tratamiento\n",
       "9       AMC      0.6600  3m de tratamiento                           NO\n",
       "10      TML      0.6220    sin tratamiento              sin tratamiento\n",
       "11      TML      0.7850  3m de tratamiento                           NO"
      ]
     },
     "execution_count": 5,
     "metadata": {},
     "output_type": "execute_result"
    }
   ],
   "source": [
    "ATP=pandas.read_csv(\"Pacientes.csv\")\n",
    "ATP[:]"
   ]
  },
  {
   "cell_type": "code",
   "execution_count": 18,
   "metadata": {},
   "outputs": [
    {
     "data": {
      "text/plain": [
       "<seaborn.axisgrid.FacetGrid at 0x22397ac27c8>"
      ]
     },
     "execution_count": 18,
     "metadata": {},
     "output_type": "execute_result"
    },
    {
     "data": {
      "image/png": "[encoded data removed]",
      "text/plain": [
       "<Figure size 637.025x360 with 1 Axes>"
      ]
     },
     "metadata": {},
     "output_type": "display_data"
    }
   ],
   "source": [
    "sns.set_context(\"talk\",font_scale=1, rc={\"font.scale\":5,\"axes.labelsize\":20,\"lines.linewidth\":5})\n",
    "sns.set_style(\"darkgrid\")\n",
    "sns.relplot(data=ATP, x='Paciente', y='ATP _in_sn', hue=\"Respondieron al tratamiento?\", style=\"tiempo\")"
   ]
  },
  {
   "cell_type": "code",
   "execution_count": 40,
   "metadata": {},
   "outputs": [
    {
     "data": {
      "text/plain": [
       "Paciente       object\n",
       "ATP _in_sn    float64\n",
       "tiempo         object\n",
       "dtype: object"
      ]
     },
     "execution_count": 40,
     "metadata": {},
     "output_type": "execute_result"
    }
   ],
   "source": [
    "ATP.dtypes"
   ]
  }
 ],
 "metadata": {
  "kernelspec": {
   "display_name": "Python 3",
   "language": "python",
   "name": "python3"
  },
  "language_info": {
   "codemirror_mode": {
    "name": "ipython",
    "version": 3
   },
   "file_extension": ".py",
   "mimetype": "text/x-python",
   "name": "python",
   "nbconvert_exporter": "python",
   "pygments_lexer": "ipython3",
   "version": "3.7.4"
  }
 },
 "nbformat": 4,
 "nbformat_minor": 2
}
